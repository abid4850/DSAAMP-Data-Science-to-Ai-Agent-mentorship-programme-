{
 "cells": [
  {
   "cell_type": "code",
   "execution_count": null,
   "id": "ea393911",
   "metadata": {},
   "outputs": [],
   "source": [
    "web-scraper-extension/\n",
    "├── manifest.json\n",
    "├── popup.html\n",
    "├── popup.js\n",
    "└── icon.png (optional)\n"
   ]
  }
 ],
 "metadata": {
  "kernelspec": {
   "display_name": "web_scraping",
   "language": "python",
   "name": "python3"
  },
  "language_info": {
   "codemirror_mode": {
    "name": "ipython",
    "version": 3
   },
   "file_extension": ".py",
   "mimetype": "text/x-python",
   "name": "python",
   "nbconvert_exporter": "python",
   "pygments_lexer": "ipython3",
   "version": "3.10.16"
  }
 },
 "nbformat": 4,
 "nbformat_minor": 5
}
