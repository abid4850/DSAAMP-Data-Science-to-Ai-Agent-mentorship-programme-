{
 "cells": [
  {
   "cell_type": "markdown",
   "id": "8f379a23",
   "metadata": {},
   "source": [
    "# Data Scraping with Python"
   ]
  },
  {
   "cell_type": "code",
   "execution_count": 16,
   "id": "c46c4ccd",
   "metadata": {},
   "outputs": [
    {
     "name": "stdout",
     "output_type": "stream",
     "text": [
      "Kuriga kidnap: More than 280 Nigerian pupils abducted\n",
      "\n",
      "More than 280 Nigerian school pupils have been abducted in the north-western town of Kuriga, officials say.  The pupils were in the assembly ground around 08:30 (07:30 GMT) when dozens of gunmen on motorcycles rode through the school, one witness said. The students, between the ages of eight and 15, were taken away, along with a teacher, they added. Kidnap gangs, known as bandits, have seized thousands of people in recent years, especially the north-west. However, there had been a reduction in the mass abduction of children over the past year until this week. Those kidnapped are usually freed after a ransom is paid. The mass abduction was confirmed by Uba Sani, the governor of Kaduna state, which includes Kuriga. He said 187 students had gone missing from a secondary school and 125 from the local primary school but that 25 had since returned. President Bola Tinubu said he was \"confident that the victims will be rescued\".  Sympathising with the families of those who had been taken, the president added that he had \"directed security and intelligence agencies to immediately rescue the victims and ensure that justice is served against the perpetrators of these abominable acts\". One pupil, believed to be 14-years-old, who had been shot by the gunmen and was being treated in hospital, has since died. A teacher who managed to escape said local people had tried to rescue the children, but they were repelled by the gunmen and one person was killed in the shootout.  Zakariyya Nasiru, who had a brother and sister taken hostage, told the BBC the family were unable to sleep on Thursday night.\"All of us couldn't sleep as we keep thinking about them. We are here praying for their safe return.\"Mr Nasiru said one boy had escaped last night and had brought back harrowing reports of their conditions, including a lack of food. Almost every family in the town is thought to have a child among those kidnapped. The armed forces have launched an operation to find them. \"No child will be left behind,\" vowed the governor. In January, bandits killed a school principal in the area and abducted his wife. The kidnapping comes days after dozens of women and children were feared kidnapped by the Boko Haram Islamist group while they were collecting firewood in north-eastern Nigeria. Thursday's attack has been blamed on Ansaru, a breakaway faction of Boko Haram, which kidnapped more than 200 schoolgirls from the town of Chibok in 2014. Ansaru controls nearby areas. No group has said it carried out either of the kidnappings. Most of the kidnaps in north-west Nigeria, including Kaduna state, are believed to be the work of criminal gangs trying to make money from ransoms. In an attempt to curb Nigeria's spiralling and lucrative kidnapping industry, a controversial law that has made it a crime to make ransom payments was passed in 2022. It carries a jail sentence of at least 15 years, however no-one has ever been arrested. Earlier this year, the family of a group of sisters kidnapped in the capital, Abuja, denied a police statement that the security forces had rescued the girls, saying that they had no choice but to pay the ransom. \n"
     ]
    }
   ],
   "source": [
    "import json\n",
    "\n",
    "import requests\n",
    "from bs4 import BeautifulSoup\n",
    "\n",
    "url = \"https://www.bbc.com/news/world-africa-68504329\"\n",
    "\n",
    "soup = BeautifulSoup(requests.get(url).content, \"html.parser\")\n",
    "data = json.loads(soup.select_one(\"#__NEXT_DATA__\").text)\n",
    "\n",
    "# print(json.dumps(data, indent=4))\n",
    "\n",
    "page = next(\n",
    "    v for k, v in data[\"props\"][\"pageProps\"][\"page\"].items() if k.startswith(\"@\")\n",
    ")\n",
    "for c in page[\"contents\"]:\n",
    "    match c[\"type\"]:\n",
    "        case \"headline\":\n",
    "            print(c[\"model\"][\"blocks\"][0][\"model\"][\"text\"])\n",
    "            print()\n",
    "        case \"text\":\n",
    "            print(c[\"model\"][\"blocks\"][0][\"model\"][\"text\"], end=\" \")\n",
    "\n",
    "print()"
   ]
  },
  {
   "cell_type": "code",
   "execution_count": 15,
   "id": "6009e59c",
   "metadata": {},
   "outputs": [
    {
     "name": "stdout",
     "output_type": "stream",
     "text": [
      "Total news: 0\n"
     ]
    }
   ],
   "source": [
    "import pandas as pd\n",
    "\n",
    "# Wikipedia URL\n",
    "url = \"https://en.wikipedia.org/wiki/List_of_countries_by_GDP_(nominal)\"\n",
    "\n",
    "# Read all tables from the page\n",
    "tables = pd.read_html(url)\n",
    "\n",
    "# Usually the first or second table contains the country/population data\n",
    "# Let's print all table shapes to see which one is the right one\n",
    "for i, table in enumerate(tables):\n",
    "    print(f\"Table {i}: {table.shape}\")\n",
    "\n",
    "# length of tables\n",
    "print(f\"Number of tables found: {len(tables)}\")\n",
    "# Preview the likely correct table (e.g., table[0] or table[1])\n",
    "population_df = tables[2]  # adjust the index if necessary\n",
    "population_df.head()"
   ]
  }
 ],
 "metadata": {
  "kernelspec": {
   "display_name": "webscraping",
   "language": "python",
   "name": "python3"
  },
  "language_info": {
   "codemirror_mode": {
    "name": "ipython",
    "version": 3
   },
   "file_extension": ".py",
   "mimetype": "text/x-python",
   "name": "python",
   "nbconvert_exporter": "python",
   "pygments_lexer": "ipython3",
   "version": "3.10.16"
  }
 },
 "nbformat": 4,
 "nbformat_minor": 5
}
